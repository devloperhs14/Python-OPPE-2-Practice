{
 "cells": [
  {
   "cell_type": "markdown",
   "metadata": {},
   "source": [
    "# Opening a File and Reading Line by Line"
   ]
  },
  {
   "cell_type": "code",
   "execution_count": null,
   "metadata": {},
   "outputs": [],
   "source": [
    "with open(\"prices_file.csv\") as file:\n",
    "    for line in file:\n",
    "        print(line.strip()) # removes extra spaces"
   ]
  },
  {
   "cell_type": "code",
   "execution_count": null,
   "metadata": {},
   "outputs": [],
   "source": [
    "with open(\"prices_file.csv\") as file:\n",
    "    print(file.readlines())"
   ]
  },
  {
   "cell_type": "markdown",
   "metadata": {},
   "source": [
    "# Skipping the First Line (Header) in a File in a csv "
   ]
  },
  {
   "cell_type": "code",
   "execution_count": null,
   "metadata": {},
   "outputs": [],
   "source": [
    "with open('prices_file.csv') as file:\n",
    "    file.readline() # to skip 1st line\n",
    "    for line in file:\n",
    "        print(line.strip())"
   ]
  },
  {
   "cell_type": "markdown",
   "metadata": {},
   "source": [
    "# Split string by delimiter"
   ]
  },
  {
   "cell_type": "code",
   "execution_count": 9,
   "metadata": {},
   "outputs": [
    {
     "name": "stdout",
     "output_type": "stream",
     "text": [
      "['150', 'Product150', '8']\n"
     ]
    }
   ],
   "source": [
    "line = \"150,Product150,8\"\n",
    "line_data = line.split(\",\")\n",
    "print(line_data)"
   ]
  },
  {
   "cell_type": "markdown",
   "metadata": {},
   "source": [
    "# Creating and Using a Dictionary"
   ]
  },
  {
   "cell_type": "code",
   "execution_count": 12,
   "metadata": {},
   "outputs": [
    {
     "name": "stdout",
     "output_type": "stream",
     "text": [
      "50\n"
     ]
    }
   ],
   "source": [
    "prices_data = {\n",
    "    \"1\":30,\n",
    "    \"2\":45,\n",
    "    \"3\":50\n",
    "}\n",
    "\n",
    "# access values\n",
    "product_name = \"3\"\n",
    "price_1 = prices_data[product_name]\n",
    "print(price_1)"
   ]
  },
  {
   "cell_type": "markdown",
   "metadata": {},
   "source": [
    "# Basics"
   ]
  },
  {
   "cell_type": "code",
   "execution_count": 13,
   "metadata": {},
   "outputs": [
    {
     "name": "stdout",
     "output_type": "stream",
     "text": [
      "Quantity as an integer: 5\n"
     ]
    }
   ],
   "source": [
    "# Converting a string to an integer\n",
    "quantity_str = \"5\"\n",
    "quantity = int(quantity_str)  # Converts \"5\" to 5\n",
    "print(f\"Quantity as an integer: {quantity}\")"
   ]
  },
  {
   "cell_type": "code",
   "execution_count": 14,
   "metadata": {},
   "outputs": [
    {
     "name": "stdout",
     "output_type": "stream",
     "text": [
      "Total cost: 50\n"
     ]
    }
   ],
   "source": [
    "# Multiplying quantity by price\n",
    "quantity = 5\n",
    "price = 10\n",
    "total_cost = quantity * price\n",
    "print(f\"Total cost: {total_cost}\")"
   ]
  },
  {
   "cell_type": "code",
   "execution_count": 15,
   "metadata": {},
   "outputs": [
    {
     "name": "stdout",
     "output_type": "stream",
     "text": [
      "Total price: 35\n"
     ]
    }
   ],
   "source": [
    "# Summing up multiple values\n",
    "total_price = 0\n",
    "total_price += 20  # Add 20 to total_price\n",
    "total_price += 15  # Add 15 to total_price\n",
    "print(f\"Total price: {total_price}\")  # Should print 35"
   ]
  },
  {
   "cell_type": "code",
   "execution_count": 16,
   "metadata": {},
   "outputs": [
    {
     "name": "stdout",
     "output_type": "stream",
     "text": [
      "Sum of 3 and 4 is: 7\n"
     ]
    }
   ],
   "source": [
    "# returning a Value from a Function\n",
    "def add_numbers(a, b):\n",
    "    return a + b\n",
    "\n",
    "result = add_numbers(3, 4)\n",
    "print(f\"Sum of 3 and 4 is: {result}\")"
   ]
  }
 ],
 "metadata": {
  "kernelspec": {
   "display_name": "Python 3",
   "language": "python",
   "name": "python3"
  },
  "language_info": {
   "codemirror_mode": {
    "name": "ipython",
    "version": 3
   },
   "file_extension": ".py",
   "mimetype": "text/x-python",
   "name": "python",
   "nbconvert_exporter": "python",
   "pygments_lexer": "ipython3",
   "version": "3.10.11"
  }
 },
 "nbformat": 4,
 "nbformat_minor": 2
}
