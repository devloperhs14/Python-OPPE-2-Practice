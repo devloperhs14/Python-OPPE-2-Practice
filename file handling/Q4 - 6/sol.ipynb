{
 "cells": [
  {
   "cell_type": "markdown",
   "metadata": {},
   "source": [
    "# Base Code"
   ]
  },
  {
   "cell_type": "code",
   "execution_count": 2,
   "metadata": {},
   "outputs": [],
   "source": [
    "prices_file = r\"prices_file.csv\"\n",
    "shopping_file = r\"shopping_file.csv\""
   ]
  },
  {
   "cell_type": "code",
   "execution_count": 9,
   "metadata": {},
   "outputs": [
    {
     "name": "stdout",
     "output_type": "stream",
     "text": [
      "{'Product1': 17, 'Product2': 14, 'Product3': 19, 'Product4': 7, 'Product5': 5, 'Product6': 20, 'Product7': 6, 'Product8': 10, 'Product9': 17, 'Product10': 9, 'Product11': 1, 'Product12': 1, 'Product13': 17, 'Product14': 7, 'Product15': 20, 'Product16': 14, 'Product17': 20, 'Product18': 13, 'Product19': 20, 'Product20': 14, 'Product21': 17, 'Product22': 18, 'Product23': 2, 'Product24': 19, 'Product25': 19, 'Product26': 8, 'Product27': 14, 'Product28': 13, 'Product29': 10, 'Product30': 16, 'Product31': 18, 'Product32': 19, 'Product33': 9, 'Product34': 1, 'Product35': 6, 'Product36': 2, 'Product37': 12, 'Product38': 8, 'Product39': 11, 'Product40': 11, 'Product41': 19, 'Product42': 3, 'Product43': 6, 'Product44': 20, 'Product45': 15, 'Product46': 11, 'Product47': 18, 'Product48': 12, 'Product49': 5, 'Product50': 9, 'Product51': 6, 'Product52': 2, 'Product53': 10, 'Product54': 2, 'Product55': 9, 'Product56': 15, 'Product57': 15, 'Product58': 14, 'Product59': 15, 'Product60': 2, 'Product61': 6, 'Product62': 17, 'Product63': 19, 'Product64': 9, 'Product65': 6, 'Product66': 11, 'Product67': 1, 'Product68': 4, 'Product69': 9, 'Product70': 16, 'Product71': 13, 'Product72': 18, 'Product73': 6, 'Product74': 10, 'Product75': 13, 'Product76': 14, 'Product77': 17, 'Product78': 18, 'Product79': 3, 'Product80': 9, 'Product81': 11, 'Product82': 5, 'Product83': 4, 'Product84': 16, 'Product85': 19, 'Product86': 14, 'Product87': 3, 'Product88': 14, 'Product89': 6, 'Product90': 1, 'Product91': 16, 'Product92': 8, 'Product93': 20, 'Product94': 11, 'Product95': 20, 'Product96': 6, 'Product97': 19, 'Product98': 4, 'Product99': 5, 'Product100': 20, 'Product101': 7, 'Product102': 8, 'Product103': 1, 'Product104': 5, 'Product105': 6, 'Product106': 14, 'Product107': 12, 'Product108': 5, 'Product109': 10, 'Product110': 12, 'Product111': 4, 'Product112': 3, 'Product113': 2, 'Product114': 5, 'Product115': 2, 'Product116': 11, 'Product117': 10, 'Product118': 20, 'Product119': 2, 'Product120': 12, 'Product121': 18, 'Product122': 17, 'Product123': 11, 'Product124': 8, 'Product125': 19, 'Product126': 8, 'Product127': 12, 'Product128': 3, 'Product129': 13, 'Product130': 7, 'Product131': 12, 'Product132': 13, 'Product133': 16, 'Product134': 14, 'Product135': 20, 'Product136': 15, 'Product137': 5, 'Product138': 13, 'Product139': 10, 'Product140': 10, 'Product141': 3, 'Product142': 6, 'Product143': 9, 'Product144': 18, 'Product145': 1, 'Product146': 2, 'Product147': 2, 'Product148': 20, 'Product149': 16, 'Product150': 8}\n"
     ]
    }
   ],
   "source": [
    "# handling the price data\n",
    "prices_data = {} # uniqueness\n",
    "\n",
    "with open(prices_file, 'r') as file:\n",
    "    # skip csv header / 1st line\n",
    "    file.readline()\n",
    "\n",
    "    # iterate on rest\n",
    "    for line in file:\n",
    "        # for each line, remove whitespaces and split based on \",\"\n",
    "        line_data = line.strip().split(',') \n",
    "        #print(line_data)\n",
    "\n",
    "        # access each element and store it into a variable for later usage\n",
    "        product_name = line_data[1]\n",
    "        price = int(line_data[2])\n",
    "\n",
    "        # make a dictionary to sore product_name:price for later usage\n",
    "        prices_data[product_name] = price\n",
    "\n",
    "\n",
    "print(prices_data)\n",
    "        "
   ]
  },
  {
   "cell_type": "code",
   "execution_count": 11,
   "metadata": {},
   "outputs": [
    {
     "name": "stdout",
     "output_type": "stream",
     "text": [
      "8815\n"
     ]
    }
   ],
   "source": [
    "# handling shopping file / product bought data\n",
    "\n",
    "# a variable to store total price\n",
    "total_price = 0\n",
    "\n",
    "with open(shopping_file, 'r') as file:\n",
    "    file.readline() # ignore/ skip 1st line\n",
    "    \n",
    "    # iterate over file\n",
    "    for line in file:\n",
    "        line_data = line.strip().split(',')\n",
    "        #print(line_data)\n",
    "        product_name = line_data[1]\n",
    "        quantity = int(line_data[2])\n",
    "\n",
    "        # sanity check if the product_name matches the one in prices file data / price_dict\n",
    "        if product_name in prices_data:\n",
    "\n",
    "            # if yes, then multiply qnty * price and update total_price variable\n",
    "            total_price += prices_data[product_name] * quantity\n",
    "    \n",
    "print(total_price)"
   ]
  },
  {
   "cell_type": "markdown",
   "metadata": {},
   "source": [
    "# Shortcut - may not be allowed in core python exams and interviews"
   ]
  },
  {
   "cell_type": "code",
   "execution_count": null,
   "metadata": {},
   "outputs": [],
   "source": [
    "#%pip install pandas"
   ]
  },
  {
   "cell_type": "code",
   "execution_count": 2,
   "metadata": {},
   "outputs": [
    {
     "name": "stdout",
     "output_type": "stream",
     "text": [
      "Total Amount Spent: 8815\n"
     ]
    }
   ],
   "source": [
    "import pandas as pd\n",
    "\n",
    "def calculate_total_price(prices_file: str, shopping_file: str) -> int:\n",
    "    # Read the CSV files into DataFrames\n",
    "    prices_df = pd.read_csv(prices_file)\n",
    "    shopping_df = pd.read_csv(shopping_file)\n",
    "\n",
    "    # Merge the two DataFrames on the 'ProductName' column\n",
    "    merged_df = pd.merge(shopping_df, prices_df, on='ProductName')\n",
    "\n",
    "    # Calculate the total cost by multiplying 'Qty' by 'Price' and summing the result\n",
    "    merged_df['TotalCost'] = merged_df['Qty'] * merged_df['Price']\n",
    "    total_price = merged_df['TotalCost'].sum()\n",
    "\n",
    "    return total_price\n",
    "\n",
    "# Example usage\n",
    "shopping_file = 'shopping_file.csv'\n",
    "prices_file = 'prices_file.csv'\n",
    "\n",
    "total_amount = calculate_total_price(prices_file, shopping_file)\n",
    "print(\"Total Amount Spent:\", total_amount)\n"
   ]
  },
  {
   "cell_type": "code",
   "execution_count": 6,
   "metadata": {},
   "outputs": [
    {
     "data": {
      "text/html": [
       "<div>\n",
       "<style scoped>\n",
       "    .dataframe tbody tr th:only-of-type {\n",
       "        vertical-align: middle;\n",
       "    }\n",
       "\n",
       "    .dataframe tbody tr th {\n",
       "        vertical-align: top;\n",
       "    }\n",
       "\n",
       "    .dataframe thead th {\n",
       "        text-align: right;\n",
       "    }\n",
       "</style>\n",
       "<table border=\"1\" class=\"dataframe\">\n",
       "  <thead>\n",
       "    <tr style=\"text-align: right;\">\n",
       "      <th></th>\n",
       "      <th>SNo</th>\n",
       "      <th>ProductName</th>\n",
       "      <th>Qty</th>\n",
       "    </tr>\n",
       "  </thead>\n",
       "  <tbody>\n",
       "    <tr>\n",
       "      <th>0</th>\n",
       "      <td>1</td>\n",
       "      <td>Product1</td>\n",
       "      <td>10</td>\n",
       "    </tr>\n",
       "    <tr>\n",
       "      <th>1</th>\n",
       "      <td>2</td>\n",
       "      <td>Product2</td>\n",
       "      <td>7</td>\n",
       "    </tr>\n",
       "    <tr>\n",
       "      <th>2</th>\n",
       "      <td>3</td>\n",
       "      <td>Product3</td>\n",
       "      <td>8</td>\n",
       "    </tr>\n",
       "    <tr>\n",
       "      <th>3</th>\n",
       "      <td>4</td>\n",
       "      <td>Product4</td>\n",
       "      <td>4</td>\n",
       "    </tr>\n",
       "    <tr>\n",
       "      <th>4</th>\n",
       "      <td>5</td>\n",
       "      <td>Product5</td>\n",
       "      <td>4</td>\n",
       "    </tr>\n",
       "    <tr>\n",
       "      <th>5</th>\n",
       "      <td>6</td>\n",
       "      <td>Product6</td>\n",
       "      <td>10</td>\n",
       "    </tr>\n",
       "    <tr>\n",
       "      <th>6</th>\n",
       "      <td>7</td>\n",
       "      <td>Product7</td>\n",
       "      <td>2</td>\n",
       "    </tr>\n",
       "    <tr>\n",
       "      <th>7</th>\n",
       "      <td>8</td>\n",
       "      <td>Product8</td>\n",
       "      <td>7</td>\n",
       "    </tr>\n",
       "  </tbody>\n",
       "</table>\n",
       "</div>"
      ],
      "text/plain": [
       "   SNo ProductName  Qty\n",
       "0    1    Product1   10\n",
       "1    2    Product2    7\n",
       "2    3    Product3    8\n",
       "3    4    Product4    4\n",
       "4    5    Product5    4\n",
       "5    6    Product6   10\n",
       "6    7    Product7    2\n",
       "7    8    Product8    7"
      ]
     },
     "execution_count": 6,
     "metadata": {},
     "output_type": "execute_result"
    }
   ],
   "source": [
    "shopping_file = 'shopping_file.csv'\n",
    "prices_file = 'prices_file.csv'\n",
    "\n",
    "prices_df = pd.read_csv(prices_file)\n",
    "shopping_df = pd.read_csv(shopping_file)\n",
    "\n",
    "#prices_df.head(8)\n",
    "shopping_df.head(8)"
   ]
  },
  {
   "cell_type": "code",
   "execution_count": 3,
   "metadata": {},
   "outputs": [],
   "source": [
    "%pip uninstall pandas"
   ]
  }
 ],
 "metadata": {
  "kernelspec": {
   "display_name": "Python 3",
   "language": "python",
   "name": "python3"
  },
  "language_info": {
   "codemirror_mode": {
    "name": "ipython",
    "version": 3
   },
   "file_extension": ".py",
   "mimetype": "text/x-python",
   "name": "python",
   "nbconvert_exporter": "python",
   "pygments_lexer": "ipython3",
   "version": "3.10.11"
  }
 },
 "nbformat": 4,
 "nbformat_minor": 2
}
