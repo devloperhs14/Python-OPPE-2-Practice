{
 "cells": [
  {
   "cell_type": "markdown",
   "metadata": {},
   "source": [
    "# Steps to share result"
   ]
  },
  {
   "cell_type": "markdown",
   "metadata": {},
   "source": [
    "Open this file in google colab / jupyter notebook and solve.\n",
    "Once done share your code as a github paste link in comments!\n",
    "\n",
    "Create github gist after login at:\n",
    "https://gist.github.com/\n",
    "\n",
    "Notes:\n",
    "1. You are suppose to write a fn one per cell.\n",
    "2. Add a title to gist file\n"
   ]
  },
  {
   "cell_type": "markdown",
   "metadata": {},
   "source": [
    "---"
   ]
  },
  {
   "cell_type": "markdown",
   "metadata": {},
   "source": [
    "Modify According to base qn\n",
    "\n",
    "Create a function as per the orignal question, which utilises similar logic and returns total amount of goods purchased by the customer - Amount based."
   ]
  },
  {
   "cell_type": "code",
   "execution_count": null,
   "metadata": {},
   "outputs": [],
   "source": [
    "def calculate_total_price(prices_file: str, shopping_file: str) -> int:\n",
    "    '''\n",
    "    Compute the total amount spent on the products.\n",
    "    Args:\n",
    "        Prices_file (str): path of file containing product purchase details.\n",
    "        Shopping_file (str): path of file containing product prices.\n",
    "    Returns:\n",
    "        Float: The total amount.\n",
    "    '''\n",
    "    ... # start by removing here"
   ]
  },
  {
   "cell_type": "markdown",
   "metadata": {},
   "source": [
    "---"
   ]
  },
  {
   "cell_type": "markdown",
   "metadata": {},
   "source": [
    "Modify the code logic\n",
    "\n",
    "Earlier we used the logic if `ProductName` column is common in the both files, then do we sum up amount.\n",
    "\n",
    "but now,\n",
    "\n",
    "your task is to convert it based on if `id` and `ProductName` columnn is common in both the files."
   ]
  },
  {
   "cell_type": "code",
   "execution_count": 1,
   "metadata": {},
   "outputs": [],
   "source": [
    "def calculate_total_price(prices_file: str, shopping_file: str) -> int:\n",
    "    '''\n",
    "    Compute the total amount spent on the products.\n",
    "    Args:\n",
    "        Prices_file (str): path of file containing product purchase details.\n",
    "        Shopping_file (str): path of file containing product prices.\n",
    "    Returns:\n",
    "        Float: The total amount if both id and ProductName matches.\n",
    "    '''\n",
    "    ... # start by removing here"
   ]
  },
  {
   "cell_type": "markdown",
   "metadata": {},
   "source": [
    "---"
   ]
  },
  {
   "cell_type": "markdown",
   "metadata": {},
   "source": [
    "Modify according to common error\n",
    "\n",
    "Now instead to summing up for amount, convert your code such that it returns sum of total quantity if `Id` and `ProductName` matches."
   ]
  },
  {
   "cell_type": "code",
   "execution_count": null,
   "metadata": {},
   "outputs": [],
   "source": [
    "def calculate_total_quantity(prices_file: str, shopping_file: str) -> int:\n",
    "    '''\n",
    "    Compute the total amount spent on the products.\n",
    "    Args:\n",
    "        Prices_file (str): path of file containing product purchase details.\n",
    "        Shopping_file (str): path of file containing product prices.\n",
    "    Returns:\n",
    "        Float: The total quantity if both id and ProductName matches.\n",
    "    '''\n",
    "    ... # start by removing here"
   ]
  },
  {
   "cell_type": "markdown",
   "metadata": {},
   "source": [
    "---"
   ]
  },
  {
   "cell_type": "markdown",
   "metadata": {},
   "source": [
    "As an added bonus, try changing the argument `num_outputs` value 5 to **10000000** and generate the 2 dataset. \n",
    "Now run the `sol.ipynb` and check if you can load dataset, if not explore how you can fix the issue.\n",
    "\n",
    "NOTE: EXPERIMENTAL - Computer may break/ hang, better you increase value of 5 with power of 10 like 10,100,1000,10000 ... and check"
   ]
  }
 ],
 "metadata": {
  "kernelspec": {
   "display_name": "Python 3",
   "language": "python",
   "name": "python3"
  },
  "language_info": {
   "codemirror_mode": {
    "name": "ipython",
    "version": 3
   },
   "file_extension": ".py",
   "mimetype": "text/x-python",
   "name": "python",
   "nbconvert_exporter": "python",
   "pygments_lexer": "ipython3",
   "version": "3.10.11"
  }
 },
 "nbformat": 4,
 "nbformat_minor": 2
}
